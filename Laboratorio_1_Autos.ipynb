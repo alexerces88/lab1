{
  "nbformat": 4,
  "nbformat_minor": 0,
  "metadata": {
    "colab": {
      "provenance": []
    },
    "kernelspec": {
      "name": "python3",
      "display_name": "Python 3"
    },
    "language_info": {
      "name": "python"
    }
  },
  "cells": [
    {
      "cell_type": "code",
      "execution_count": 3,
      "metadata": {
        "id": "qUxgZvq33-ID"
      },
      "outputs": [],
      "source": [
        "# utilizado para manejos de directorios y rutas\n",
        "import os\n",
        "\n",
        "# Computacion vectorial y cientifica para python\n",
        "import numpy as np\n",
        "\n",
        "# Librerias para graficación (trazado de gráficos)\n",
        "from matplotlib import pyplot\n",
        "from mpl_toolkits.mplot3d import Axes3D  # Necesario para graficar superficies 3D\n",
        "\n",
        "# llama a matplotlib a embeber graficas dentro de los cuadernillos\n",
        "%matplotlib inline"
      ]
    },
    {
      "cell_type": "code",
      "source": [
        "import pandas as pd\n",
        "from sklearn.preprocessing import LabelEncoder\n",
        "from datetime import datetime"
      ],
      "metadata": {
        "id": "3zeLCpwjiQCT"
      },
      "execution_count": 4,
      "outputs": []
    },
    {
      "cell_type": "code",
      "source": [
        "#Carga de dataset\n",
        "data = pd.read_csv('/content/test-data.csv')"
      ],
      "metadata": {
        "id": "V0ZXOA-6iUmV"
      },
      "execution_count": 7,
      "outputs": []
    },
    {
      "cell_type": "code",
      "source": [
        "print(data)"
      ],
      "metadata": {
        "colab": {
          "base_uri": "https://localhost:8080/"
        },
        "id": "h325dVhXicrs",
        "outputId": "7b13b0d4-21af-4fb3-bbdd-5a54ee740fb5"
      },
      "execution_count": null,
      "outputs": [
        {
          "output_type": "stream",
          "name": "stdout",
          "text": [
            "      Unnamed: 0                                               Name  \\\n",
            "0              0                            Maruti Alto K10 LXI CNG   \n",
            "1              1                      Maruti Alto 800 2016-2019 LXI   \n",
            "2              2          Toyota Innova Crysta Touring Sport 2.4 MT   \n",
            "3              3                               Toyota Etios Liva GD   \n",
            "4              4                                  Hyundai i20 Magna   \n",
            "...          ...                                                ...   \n",
            "1229        1229                  Volkswagen Vento Diesel Trendline   \n",
            "1230        1230                             Volkswagen Polo GT TSI   \n",
            "1231        1231                             Nissan Micra Diesel XV   \n",
            "1232        1232                             Volkswagen Polo GT TSI   \n",
            "1233        1233  Mercedes-Benz E-Class 2009-2013 E 220 CDI Avan...   \n",
            "\n",
            "        Location  Year  Kilometers_Driven Fuel_Type Transmission Owner_Type  \\\n",
            "0          Delhi  2014              40929       CNG       Manual      First   \n",
            "1     Coimbatore  2013              54493    Petrol       Manual     Second   \n",
            "2         Mumbai  2017              34000    Diesel       Manual      First   \n",
            "3      Hyderabad  2012             139000    Diesel       Manual      First   \n",
            "4         Mumbai  2014              29000    Petrol       Manual      First   \n",
            "...          ...   ...                ...       ...          ...        ...   \n",
            "1229   Hyderabad  2011              89411    Diesel       Manual      First   \n",
            "1230      Mumbai  2015              59000    Petrol    Automatic      First   \n",
            "1231     Kolkata  2012              28000    Diesel       Manual      First   \n",
            "1232        Pune  2013              52262    Petrol    Automatic      Third   \n",
            "1233       Kochi  2014              72443    Diesel    Automatic      First   \n",
            "\n",
            "          Mileage   Engine      Power  Seats   New_Price  \n",
            "0     32.26 km/kg   998 CC   58.2 bhp    4.0         NaN  \n",
            "1       24.7 kmpl   796 CC   47.3 bhp    5.0         NaN  \n",
            "2      13.68 kmpl  2393 CC  147.8 bhp    7.0  25.27 Lakh  \n",
            "3      23.59 kmpl  1364 CC   null bhp    5.0         NaN  \n",
            "4       18.5 kmpl  1197 CC  82.85 bhp    5.0         NaN  \n",
            "...           ...      ...        ...    ...         ...  \n",
            "1229   20.54 kmpl  1598 CC  103.6 bhp    5.0         NaN  \n",
            "1230   17.21 kmpl  1197 CC  103.6 bhp    5.0         NaN  \n",
            "1231   23.08 kmpl  1461 CC   63.1 bhp    5.0         NaN  \n",
            "1232    17.2 kmpl  1197 CC  103.6 bhp    5.0         NaN  \n",
            "1233    10.0 kmpl  2148 CC    170 bhp    5.0         NaN  \n",
            "\n",
            "[1234 rows x 13 columns]\n"
          ]
        }
      ]
    },
    {
      "cell_type": "code",
      "source": [
        "data.info()"
      ],
      "metadata": {
        "colab": {
          "base_uri": "https://localhost:8080/"
        },
        "id": "ZoYIJwRyifh-",
        "outputId": "fd6d23c5-20d9-48da-9a71-d60657bfcc33"
      },
      "execution_count": 8,
      "outputs": [
        {
          "output_type": "stream",
          "name": "stdout",
          "text": [
            "<class 'pandas.core.frame.DataFrame'>\n",
            "RangeIndex: 1234 entries, 0 to 1233\n",
            "Data columns (total 13 columns):\n",
            " #   Column             Non-Null Count  Dtype  \n",
            "---  ------             --------------  -----  \n",
            " 0   Unnamed: 0         1234 non-null   int64  \n",
            " 1   Name               1234 non-null   object \n",
            " 2   Location           1234 non-null   object \n",
            " 3   Year               1234 non-null   int64  \n",
            " 4   Kilometers_Driven  1234 non-null   int64  \n",
            " 5   Fuel_Type          1234 non-null   object \n",
            " 6   Transmission       1234 non-null   object \n",
            " 7   Owner_Type         1234 non-null   object \n",
            " 8   Mileage            1234 non-null   object \n",
            " 9   Engine             1224 non-null   object \n",
            " 10  Power              1224 non-null   object \n",
            " 11  Seats              1223 non-null   float64\n",
            " 12  New_Price          182 non-null    object \n",
            "dtypes: float64(1), int64(3), object(9)\n",
            "memory usage: 125.5+ KB\n"
          ]
        }
      ]
    },
    {
      "cell_type": "code",
      "source": [
        "columnas_eliminar = ['New_Price']\n",
        "simbolo = 'Lakh'\n",
        "\n",
        "for columna in columnas_eliminar:\n",
        "    data[columna] = data[columna].str.replace(simbolo, '', regex=False)"
      ],
      "metadata": {
        "id": "HcW3ITuoi4aw"
      },
      "execution_count": 9,
      "outputs": []
    },
    {
      "cell_type": "code",
      "source": [
        "print(data)"
      ],
      "metadata": {
        "colab": {
          "base_uri": "https://localhost:8080/"
        },
        "id": "CDcJv73OABpB",
        "outputId": "ab5bba84-1f3a-4c6e-dfa0-7801e57f8a19"
      },
      "execution_count": 10,
      "outputs": [
        {
          "output_type": "stream",
          "name": "stdout",
          "text": [
            "      Unnamed: 0                                               Name  \\\n",
            "0              0                            Maruti Alto K10 LXI CNG   \n",
            "1              1                      Maruti Alto 800 2016-2019 LXI   \n",
            "2              2          Toyota Innova Crysta Touring Sport 2.4 MT   \n",
            "3              3                               Toyota Etios Liva GD   \n",
            "4              4                                  Hyundai i20 Magna   \n",
            "...          ...                                                ...   \n",
            "1229        1229                  Volkswagen Vento Diesel Trendline   \n",
            "1230        1230                             Volkswagen Polo GT TSI   \n",
            "1231        1231                             Nissan Micra Diesel XV   \n",
            "1232        1232                             Volkswagen Polo GT TSI   \n",
            "1233        1233  Mercedes-Benz E-Class 2009-2013 E 220 CDI Avan...   \n",
            "\n",
            "        Location  Year  Kilometers_Driven Fuel_Type Transmission Owner_Type  \\\n",
            "0          Delhi  2014              40929       CNG       Manual      First   \n",
            "1     Coimbatore  2013              54493    Petrol       Manual     Second   \n",
            "2         Mumbai  2017              34000    Diesel       Manual      First   \n",
            "3      Hyderabad  2012             139000    Diesel       Manual      First   \n",
            "4         Mumbai  2014              29000    Petrol       Manual      First   \n",
            "...          ...   ...                ...       ...          ...        ...   \n",
            "1229   Hyderabad  2011              89411    Diesel       Manual      First   \n",
            "1230      Mumbai  2015              59000    Petrol    Automatic      First   \n",
            "1231     Kolkata  2012              28000    Diesel       Manual      First   \n",
            "1232        Pune  2013              52262    Petrol    Automatic      Third   \n",
            "1233       Kochi  2014              72443    Diesel    Automatic      First   \n",
            "\n",
            "          Mileage   Engine      Power  Seats New_Price  \n",
            "0     32.26 km/kg   998 CC   58.2 bhp    4.0       NaN  \n",
            "1       24.7 kmpl   796 CC   47.3 bhp    5.0       NaN  \n",
            "2      13.68 kmpl  2393 CC  147.8 bhp    7.0    25.27   \n",
            "3      23.59 kmpl  1364 CC   null bhp    5.0       NaN  \n",
            "4       18.5 kmpl  1197 CC  82.85 bhp    5.0       NaN  \n",
            "...           ...      ...        ...    ...       ...  \n",
            "1229   20.54 kmpl  1598 CC  103.6 bhp    5.0       NaN  \n",
            "1230   17.21 kmpl  1197 CC  103.6 bhp    5.0       NaN  \n",
            "1231   23.08 kmpl  1461 CC   63.1 bhp    5.0       NaN  \n",
            "1232    17.2 kmpl  1197 CC  103.6 bhp    5.0       NaN  \n",
            "1233    10.0 kmpl  2148 CC    170 bhp    5.0       NaN  \n",
            "\n",
            "[1234 rows x 13 columns]\n"
          ]
        }
      ]
    },
    {
      "cell_type": "code",
      "source": [
        "data.info()"
      ],
      "metadata": {
        "colab": {
          "base_uri": "https://localhost:8080/"
        },
        "id": "MJR_ngQEAFSz",
        "outputId": "c828f2cb-43bb-430e-ab85-e49012e3b0db"
      },
      "execution_count": 11,
      "outputs": [
        {
          "output_type": "stream",
          "name": "stdout",
          "text": [
            "<class 'pandas.core.frame.DataFrame'>\n",
            "RangeIndex: 1234 entries, 0 to 1233\n",
            "Data columns (total 13 columns):\n",
            " #   Column             Non-Null Count  Dtype  \n",
            "---  ------             --------------  -----  \n",
            " 0   Unnamed: 0         1234 non-null   int64  \n",
            " 1   Name               1234 non-null   object \n",
            " 2   Location           1234 non-null   object \n",
            " 3   Year               1234 non-null   int64  \n",
            " 4   Kilometers_Driven  1234 non-null   int64  \n",
            " 5   Fuel_Type          1234 non-null   object \n",
            " 6   Transmission       1234 non-null   object \n",
            " 7   Owner_Type         1234 non-null   object \n",
            " 8   Mileage            1234 non-null   object \n",
            " 9   Engine             1224 non-null   object \n",
            " 10  Power              1224 non-null   object \n",
            " 11  Seats              1223 non-null   float64\n",
            " 12  New_Price          182 non-null    object \n",
            "dtypes: float64(1), int64(3), object(9)\n",
            "memory usage: 125.5+ KB\n"
          ]
        }
      ]
    },
    {
      "cell_type": "code",
      "source": [
        "\n",
        "# Suponiedo que 'data' es DataFrame\n",
        "columna_categorica = 'New_Price'\n",
        "columna_numerica = 'Price'\n",
        "\n",
        "# Crea una nueva columna numérica y copia los valores de la columna categórica\n",
        "data[columna_numerica] = pd.to_numeric(data[columna_categorica], errors='coerce')\n",
        "\n",
        "# Elimina la columna categórica original\n",
        "data.drop(columna_categorica, axis=1, inplace=True)"
      ],
      "metadata": {
        "id": "iFCu2N4YuhfQ"
      },
      "execution_count": 12,
      "outputs": []
    },
    {
      "cell_type": "code",
      "source": [
        "data.info()"
      ],
      "metadata": {
        "colab": {
          "base_uri": "https://localhost:8080/"
        },
        "id": "VpbiDOZmjHzw",
        "outputId": "64d64aca-ee31-453d-9e4f-2e54ca709f96"
      },
      "execution_count": 16,
      "outputs": [
        {
          "output_type": "stream",
          "name": "stdout",
          "text": [
            "<class 'pandas.core.frame.DataFrame'>\n",
            "RangeIndex: 1234 entries, 0 to 1233\n",
            "Data columns (total 12 columns):\n",
            " #   Column             Non-Null Count  Dtype  \n",
            "---  ------             --------------  -----  \n",
            " 0   Name               1234 non-null   object \n",
            " 1   Location           1234 non-null   object \n",
            " 2   Year               1234 non-null   int64  \n",
            " 3   Kilometers_Driven  1234 non-null   int64  \n",
            " 4   Fuel_Type          1234 non-null   object \n",
            " 5   Transmission       1234 non-null   object \n",
            " 6   Owner_Type         1234 non-null   object \n",
            " 7   Mileage            1234 non-null   object \n",
            " 8   Engine             1224 non-null   object \n",
            " 9   Power              1224 non-null   object \n",
            " 10  Seats              1223 non-null   float64\n",
            " 11  Price              179 non-null    float64\n",
            "dtypes: float64(2), int64(2), object(8)\n",
            "memory usage: 115.8+ KB\n"
          ]
        }
      ]
    },
    {
      "cell_type": "code",
      "source": [
        "#variables categoricas\n",
        "columnas_categoricas = data.select_dtypes(include=['object']).columns\n",
        "#variables fechas\n",
        "columnas_fechas = data.select_dtypes(include=['datetime64']).columns"
      ],
      "metadata": {
        "id": "sFmWfM7Mjn9Z"
      },
      "execution_count": 17,
      "outputs": []
    },
    {
      "cell_type": "code",
      "source": [
        "#Procesamiento de frases o palabras\n",
        "for columna in columnas_categoricas:\n",
        "  le = LabelEncoder()\n",
        "  data[columna] = le.fit_transform(data[columna])"
      ],
      "metadata": {
        "id": "GcxRaOoqkOyD"
      },
      "execution_count": 18,
      "outputs": []
    },
    {
      "cell_type": "code",
      "source": [
        "#Fechas a numeros\n",
        "for columna in columnas_fechas:\n",
        "  data[columna] = pd.to_numeric(data[columna].map(datetime.timestamp))"
      ],
      "metadata": {
        "id": "hVuep7WXkQvA"
      },
      "execution_count": 19,
      "outputs": []
    },
    {
      "cell_type": "code",
      "source": [
        "#resultado\n",
        "print(data)"
      ],
      "metadata": {
        "colab": {
          "base_uri": "https://localhost:8080/"
        },
        "id": "vHzN_Uj0kS96",
        "outputId": "fe66d198-8361-4e93-d866-4f486b440721"
      },
      "execution_count": 20,
      "outputs": [
        {
          "output_type": "stream",
          "name": "stdout",
          "text": [
            "      Name  Location  Year  Kilometers_Driven  Fuel_Type  Transmission  \\\n",
            "0      413         4  2014              40929          0             1   \n",
            "1      408         3  2013              54493          3             1   \n",
            "2      723         9  2017              34000          1             1   \n",
            "3      689         5  2012             139000          1             1   \n",
            "4      333         9  2014              29000          3             1   \n",
            "...    ...       ...   ...                ...        ...           ...   \n",
            "1229   758         5  2011              89411          1             1   \n",
            "1230   745         9  2015              59000          3             0   \n",
            "1231   582         8  2012              28000          1             1   \n",
            "1232   745        10  2013              52262          3             0   \n",
            "1233   536         7  2014              72443          1             0   \n",
            "\n",
            "      Owner_Type  Mileage  Engine  Power  Seats  Price  \n",
            "0              0      294     102    163    4.0    NaN  \n",
            "1              2      273      97    154    5.0    NaN  \n",
            "2              0       53      67     65    7.0  25.27  \n",
            "3              0      261      16    248    5.0    NaN  \n",
            "4              0      167       9    211    5.0    NaN  \n",
            "...          ...      ...     ...    ...    ...    ...  \n",
            "1229           0      211      38      9    5.0    NaN  \n",
            "1230           0      136       9      9    5.0    NaN  \n",
            "1231           0      255      24    169    5.0    NaN  \n",
            "1232           3      135       9      9    5.0    NaN  \n",
            "1233           0        1      60     87    5.0    NaN  \n",
            "\n",
            "[1234 rows x 12 columns]\n"
          ]
        }
      ]
    },
    {
      "cell_type": "code",
      "source": [
        "data.info()"
      ],
      "metadata": {
        "colab": {
          "base_uri": "https://localhost:8080/"
        },
        "id": "tJ9GFsACksGy",
        "outputId": "d22111be-bbf2-4cd3-c995-524d8e47eb27"
      },
      "execution_count": 21,
      "outputs": [
        {
          "output_type": "stream",
          "name": "stdout",
          "text": [
            "<class 'pandas.core.frame.DataFrame'>\n",
            "RangeIndex: 1234 entries, 0 to 1233\n",
            "Data columns (total 12 columns):\n",
            " #   Column             Non-Null Count  Dtype  \n",
            "---  ------             --------------  -----  \n",
            " 0   Name               1234 non-null   int64  \n",
            " 1   Location           1234 non-null   int64  \n",
            " 2   Year               1234 non-null   int64  \n",
            " 3   Kilometers_Driven  1234 non-null   int64  \n",
            " 4   Fuel_Type          1234 non-null   int64  \n",
            " 5   Transmission       1234 non-null   int64  \n",
            " 6   Owner_Type         1234 non-null   int64  \n",
            " 7   Mileage            1234 non-null   int64  \n",
            " 8   Engine             1234 non-null   int64  \n",
            " 9   Power              1234 non-null   int64  \n",
            " 10  Seats              1223 non-null   float64\n",
            " 11  Price              179 non-null    float64\n",
            "dtypes: float64(2), int64(10)\n",
            "memory usage: 115.8 KB\n"
          ]
        }
      ]
    },
    {
      "cell_type": "code",
      "source": [
        "#llenar datos vacios\n",
        "columnas_especificas = ['Price', 'Seats']\n",
        "media_columnas = data[columnas_especificas].mean()\n",
        "data[columnas_especificas] = data[columnas_especificas].fillna(media_columnas)"
      ],
      "metadata": {
        "id": "aL01HjE1tMNP"
      },
      "execution_count": 22,
      "outputs": []
    },
    {
      "cell_type": "code",
      "source": [
        "data.info()"
      ],
      "metadata": {
        "colab": {
          "base_uri": "https://localhost:8080/"
        },
        "id": "IZheY0q7lvQg",
        "outputId": "a42d5433-5b87-4614-b7ac-c86aa53db40b"
      },
      "execution_count": 23,
      "outputs": [
        {
          "output_type": "stream",
          "name": "stdout",
          "text": [
            "<class 'pandas.core.frame.DataFrame'>\n",
            "RangeIndex: 1234 entries, 0 to 1233\n",
            "Data columns (total 12 columns):\n",
            " #   Column             Non-Null Count  Dtype  \n",
            "---  ------             --------------  -----  \n",
            " 0   Name               1234 non-null   int64  \n",
            " 1   Location           1234 non-null   int64  \n",
            " 2   Year               1234 non-null   int64  \n",
            " 3   Kilometers_Driven  1234 non-null   int64  \n",
            " 4   Fuel_Type          1234 non-null   int64  \n",
            " 5   Transmission       1234 non-null   int64  \n",
            " 6   Owner_Type         1234 non-null   int64  \n",
            " 7   Mileage            1234 non-null   int64  \n",
            " 8   Engine             1234 non-null   int64  \n",
            " 9   Power              1234 non-null   int64  \n",
            " 10  Seats              1234 non-null   float64\n",
            " 11  Price              1234 non-null   float64\n",
            "dtypes: float64(2), int64(10)\n",
            "memory usage: 115.8 KB\n"
          ]
        }
      ]
    },
    {
      "cell_type": "code",
      "source": [
        "# Lectura de Datos\n",
        "X = data.iloc[:, :11]\n",
        "y = data.iloc[:, 11]\n",
        "m = y.size"
      ],
      "metadata": {
        "id": "YuuRUXgCwvZ_"
      },
      "execution_count": 33,
      "outputs": []
    },
    {
      "cell_type": "code",
      "source": [
        "print(X)\n",
        "print('-'*25)\n",
        "print(y)"
      ],
      "metadata": {
        "colab": {
          "base_uri": "https://localhost:8080/"
        },
        "id": "x1NBC6A6xFoC",
        "outputId": "a0711ce1-43df-4391-9f6b-11c137b2ab44"
      },
      "execution_count": 25,
      "outputs": [
        {
          "output_type": "stream",
          "name": "stdout",
          "text": [
            "      Name  Location  Year  Kilometers_Driven  Fuel_Type  Transmission  \\\n",
            "0      413         4  2014              40929          0             1   \n",
            "1      408         3  2013              54493          3             1   \n",
            "2      723         9  2017              34000          1             1   \n",
            "3      689         5  2012             139000          1             1   \n",
            "4      333         9  2014              29000          3             1   \n",
            "...    ...       ...   ...                ...        ...           ...   \n",
            "1229   758         5  2011              89411          1             1   \n",
            "1230   745         9  2015              59000          3             0   \n",
            "1231   582         8  2012              28000          1             1   \n",
            "1232   745        10  2013              52262          3             0   \n",
            "1233   536         7  2014              72443          1             0   \n",
            "\n",
            "      Owner_Type  Mileage  Engine  Power  Seats  \n",
            "0              0      294     102    163    4.0  \n",
            "1              2      273      97    154    5.0  \n",
            "2              0       53      67     65    7.0  \n",
            "3              0      261      16    248    5.0  \n",
            "4              0      167       9    211    5.0  \n",
            "...          ...      ...     ...    ...    ...  \n",
            "1229           0      211      38      9    5.0  \n",
            "1230           0      136       9      9    5.0  \n",
            "1231           0      255      24    169    5.0  \n",
            "1232           3      135       9      9    5.0  \n",
            "1233           0        1      60     87    5.0  \n",
            "\n",
            "[1234 rows x 11 columns]\n",
            "-------------------------\n",
            "0       18.229218\n",
            "1       18.229218\n",
            "2       25.270000\n",
            "3       18.229218\n",
            "4       18.229218\n",
            "          ...    \n",
            "1229    18.229218\n",
            "1230    18.229218\n",
            "1231    18.229218\n",
            "1232    18.229218\n",
            "1233    18.229218\n",
            "Name: Price, Length: 1234, dtype: float64\n"
          ]
        }
      ]
    },
    {
      "cell_type": "code",
      "source": [
        "def  featureNormalize(X):\n",
        "    X_norm = X.copy()\n",
        "    mu = np.zeros(X.shape[1])\n",
        "    sigma = np.zeros(X.shape[1])\n",
        "\n",
        "    mu = np.mean(X, axis = 0)\n",
        "    sigma = np.std(X, axis = 0)\n",
        "    X_norm = (X - mu) / sigma\n",
        "\n",
        "    return X_norm, mu, sigma"
      ],
      "metadata": {
        "id": "DrrFytt2gkI8"
      },
      "execution_count": 26,
      "outputs": []
    },
    {
      "cell_type": "code",
      "source": [
        "# llama featureNormalize con los datos cargados\n",
        "X_norm, mu, sigma = featureNormalize(X)\n",
        "\n",
        "print(X)\n",
        "print('Media calculada:', mu)\n",
        "print('Desviación estandar calculada:', sigma)\n",
        "print(X_norm)\n",
        "print (y)"
      ],
      "metadata": {
        "colab": {
          "base_uri": "https://localhost:8080/"
        },
        "id": "MhHhItqc4YLy",
        "outputId": "e1ab6554-2654-49f9-e171-9151f550d66a"
      },
      "execution_count": 41,
      "outputs": [
        {
          "output_type": "stream",
          "name": "stdout",
          "text": [
            "      Name  Location  Year  Kilometers_Driven  Fuel_Type  Transmission  \\\n",
            "0      413         4  2014              40929          0             1   \n",
            "1      408         3  2013              54493          3             1   \n",
            "2      723         9  2017              34000          1             1   \n",
            "3      689         5  2012             139000          1             1   \n",
            "4      333         9  2014              29000          3             1   \n",
            "...    ...       ...   ...                ...        ...           ...   \n",
            "1229   758         5  2011              89411          1             1   \n",
            "1230   745         9  2015              59000          3             0   \n",
            "1231   582         8  2012              28000          1             1   \n",
            "1232   745        10  2013              52262          3             0   \n",
            "1233   536         7  2014              72443          1             0   \n",
            "\n",
            "      Owner_Type  Mileage  Engine  Power  Seats  \n",
            "0              0      294     102    163    4.0  \n",
            "1              2      273      97    154    5.0  \n",
            "2              0       53      67     65    7.0  \n",
            "3              0      261      16    248    5.0  \n",
            "4              0      167       9    211    5.0  \n",
            "...          ...      ...     ...    ...    ...  \n",
            "1229           0      211      38      9    5.0  \n",
            "1230           0      136       9      9    5.0  \n",
            "1231           0      255      24    169    5.0  \n",
            "1232           3      135       9      9    5.0  \n",
            "1233           0        1      60     87    5.0  \n",
            "\n",
            "[1234 rows x 11 columns]\n",
            "Media calculada: Name                   381.836305\n",
            "Location                 5.635332\n",
            "Year                  2013.400324\n",
            "Kilometers_Driven    58507.288493\n",
            "Fuel_Type                1.935170\n",
            "Transmission             0.733387\n",
            "Owner_Type               0.358995\n",
            "Mileage                155.964344\n",
            "Engine                  41.247164\n",
            "Power                  139.708266\n",
            "Seats                    5.284546\n",
            "dtype: float64\n",
            "Desviación estandar calculada: Name                   218.971592\n",
            "Location                 3.035701\n",
            "Year                     3.178412\n",
            "Kilometers_Driven    35584.275065\n",
            "Fuel_Type                1.004372\n",
            "Transmission             0.442188\n",
            "Owner_Type               0.803137\n",
            "Mileage                 80.981001\n",
            "Engine                  30.937821\n",
            "Power                   78.423728\n",
            "Seats                    0.821598\n",
            "dtype: float64\n",
            "          Name  Location      Year  Kilometers_Driven  Fuel_Type  \\\n",
            "0     0.142318 -0.538700  0.188672          -0.493990  -1.926746   \n",
            "1     0.119484 -0.868113 -0.125951          -0.112811   1.060195   \n",
            "2     1.558027  1.108366  1.132539          -0.688711  -0.931099   \n",
            "3     1.402756 -0.209287 -0.440574           2.262030  -0.931099   \n",
            "4    -0.223026  1.108366  0.188672          -0.829223   1.060195   \n",
            "...        ...       ...       ...                ...        ...   \n",
            "1229  1.717865 -0.209287 -0.755196           0.868465  -0.931099   \n",
            "1230  1.658497  1.108366  0.503294           0.013846   1.060195   \n",
            "1231  0.914108  0.778953 -0.440574          -0.857325  -0.931099   \n",
            "1232  1.658497  1.437779 -0.125951          -0.175507   1.060195   \n",
            "1233  0.704035  0.449540  0.188672           0.391626  -0.931099   \n",
            "\n",
            "      Transmission  Owner_Type   Mileage    Engine     Power     Seats  \n",
            "0         0.602939   -0.446991  1.704544  1.963708  0.296999 -1.563474  \n",
            "1         0.602939    2.043245  1.445224  1.802093  0.182237 -0.346333  \n",
            "2         0.602939   -0.446991 -1.271463  0.832406 -0.952623  2.087949  \n",
            "3         0.602939   -0.446991  1.297041 -0.816061  1.380854 -0.346333  \n",
            "4         0.602939   -0.446991  0.136275 -1.042322  0.909058 -0.346333  \n",
            "...            ...         ...       ...       ...       ...       ...  \n",
            "1229      0.602939   -0.446991  0.679612 -0.104958 -1.666693 -0.346333  \n",
            "1230     -1.658541   -0.446991 -0.246531 -1.042322 -1.666693 -0.346333  \n",
            "1231      0.602939   -0.446991  1.222949 -0.557478  0.373506 -0.346333  \n",
            "1232     -1.658541    3.288363 -0.258880 -1.042322 -1.666693 -0.346333  \n",
            "1233     -1.658541   -0.446991 -1.913589  0.606146 -0.672096 -0.346333  \n",
            "\n",
            "[1234 rows x 11 columns]\n",
            "0       18.229218\n",
            "1       18.229218\n",
            "2       25.270000\n",
            "3       18.229218\n",
            "4       18.229218\n",
            "          ...    \n",
            "1229    18.229218\n",
            "1230    18.229218\n",
            "1231    18.229218\n",
            "1232    18.229218\n",
            "1233    18.229218\n",
            "Name: Price, Length: 1234, dtype: float64\n"
          ]
        }
      ]
    },
    {
      "cell_type": "code",
      "source": [
        "columnas_seleccionadas = list(range(0, 11)) + list(range(1, 11))\n",
        "X = data.iloc[:, columnas_seleccionadas]\n",
        "y = data.iloc[:, 11]\n",
        "m = y.size"
      ],
      "metadata": {
        "id": "dLTa-vu3rbHZ"
      },
      "execution_count": 72,
      "outputs": []
    },
    {
      "cell_type": "code",
      "source": [
        "# Añade el termino de interseccion a X\n",
        "# (Columna de unos para X0)\n",
        "X = np.concatenate([np.ones((m, 1)), X_norm], axis=1)"
      ],
      "metadata": {
        "id": "EB4cCmdm4bxJ"
      },
      "execution_count": 73,
      "outputs": []
    },
    {
      "cell_type": "code",
      "source": [
        "print(X)"
      ],
      "metadata": {
        "colab": {
          "base_uri": "https://localhost:8080/"
        },
        "id": "jxdWrQDC4fcD",
        "outputId": "2e353bd0-ccfa-4304-97d2-b22e836a2321"
      },
      "execution_count": 74,
      "outputs": [
        {
          "output_type": "stream",
          "name": "stdout",
          "text": [
            "[[ 1.          0.14231844 -0.53870012 ...  1.96370764  0.29699856\n",
            "  -1.56347364]\n",
            " [ 1.          0.11948443 -0.86811338 ...  1.80209316  0.18223737\n",
            "  -0.3463328 ]\n",
            " [ 1.          1.55802719  1.10836616 ...  0.83240626 -0.95262323\n",
            "   2.08794888]\n",
            " ...\n",
            " [ 1.          0.91410805  0.7789529  ... -0.55747829  0.37350601\n",
            "  -0.3463328 ]\n",
            " [ 1.          1.65849685  1.43777942 ... -1.04232173 -1.66669283\n",
            "  -0.3463328 ]\n",
            " [ 1.          0.70403514  0.44953965 ...  0.60614599 -0.67209589\n",
            "  -0.3463328 ]]\n"
          ]
        }
      ]
    },
    {
      "cell_type": "code",
      "source": [
        "def computeCostMulti(X, y, theta):\n",
        "    # Inicializa algunos valores utiles\n",
        "    m = y.shape[0] # numero de ejemplos de entrenamiento\n",
        "\n",
        "    J = 0\n",
        "\n",
        "    h = np.dot(X, theta)\n",
        "\n",
        "    J = (1/(2 * m)) * np.sum(np.square(np.dot(X, theta) - y))\n",
        "\n",
        "    return J\n"
      ],
      "metadata": {
        "id": "is_NER384kX5"
      },
      "execution_count": 75,
      "outputs": []
    },
    {
      "cell_type": "code",
      "source": [
        "def gradientDescentMulti(X, y, theta, alpha, num_iters):\n",
        "\n",
        "    # Inicializa algunos valores\n",
        "    m = y.shape[0] # numero de ejemplos de entrenamiento\n",
        "\n",
        "    # realiza una copia de theta, el cual será acutalizada por el descenso por el gradiente\n",
        "    theta = theta.copy()\n",
        "\n",
        "    J_history = []\n",
        "\n",
        "    for i in range(num_iters):\n",
        "        theta = theta - (alpha / m) * (np.dot(X, theta) - y).dot(X)\n",
        "        J_history.append(computeCostMulti(X, y, theta))\n",
        "\n",
        "    return theta, J_history"
      ],
      "metadata": {
        "id": "NTic99Il4k9H"
      },
      "execution_count": 76,
      "outputs": []
    },
    {
      "cell_type": "code",
      "source": [
        "# Elegir algun valor para alpha (probar varias alternativas)\n",
        "alpha = 0.002\n",
        "num_iters = 5000\n",
        "\n",
        "# inicializa theta y ejecuta el descenso por el gradiente\n",
        "theta = np.zeros(12)\n",
        "theta, J_history = gradientDescentMulti(X, y, theta, alpha, num_iters)\n",
        "\n",
        "# Grafica la convergencia del costo\n",
        "pyplot.plot(np.arange(len(J_history)), J_history, lw=2)\n",
        "pyplot.xlabel('Numero de iteraciones')\n",
        "pyplot.ylabel('Costo J')\n",
        "\n",
        "# Muestra los resultados del descenso por el gradiente\n",
        "print('theta calculado por el descenso por el gradiente: {:s}'.format(str(theta)))\n",
        "\n",
        "# Estimar el precio para un auto con distintas caracteristicas\n",
        "X_array = [1, 420, 5, 2011, 40787, 1, 0, 1, 311, 105, 170, 5]\n",
        "X_array[1:12] = (X_array[1:12] - mu) / sigma\n",
        "price = np.dot(X_array, theta)\n",
        "\n",
        "print('El valor predecido es (usando el descenso por el gradiente): {:.4f}'.format(price))"
      ],
      "metadata": {
        "colab": {
          "base_uri": "https://localhost:8080/",
          "height": 518
        },
        "id": "2sc2AmKF4qJQ",
        "outputId": "485daf8d-fe99-4e22-d93d-80e120f1a14b"
      },
      "execution_count": 92,
      "outputs": [
        {
          "output_type": "stream",
          "name": "stdout",
          "text": [
            "theta calculado por el descenso por el gradiente: [ 1.82283985e+01 -1.88301009e-01  1.27002450e-01 -9.50679797e-02\n",
            "  2.86470995e-02 -7.76294011e-01 -1.25304506e+00 -2.99215385e-01\n",
            " -1.01470958e+00  1.83961936e-03 -8.70374359e-02 -3.17012883e-01]\n",
            "El valor predecido es (usando el descenso por el gradiente): 18.9261\n"
          ]
        },
        {
          "output_type": "display_data",
          "data": {
            "text/plain": [
              "<Figure size 640x480 with 1 Axes>"
            ],
            "image/png": "[encoded data removed]"
          },
          "metadata": {}
        }
      ]
    },
    {
      "cell_type": "code",
      "source": [
        "X_array = [1, 420, 5, 2011, 40787, 1, 0, 1, 311, 105, 170, 5]\n",
        "X_array[1:12] = (X_array[1:12] - mu) / sigma"
      ],
      "metadata": {
        "id": "pHpGapUtf4QP"
      },
      "execution_count": 93,
      "outputs": []
    },
    {
      "cell_type": "code",
      "source": [
        "X_array[1:12]"
      ],
      "metadata": {
        "colab": {
          "base_uri": "https://localhost:8080/"
        },
        "id": "c_fhRmzof56K",
        "outputId": "4f1d38a0-b0f6-4e25-a1d1-3eab4e468991"
      },
      "execution_count": 94,
      "outputs": [
        {
          "output_type": "execute_result",
          "data": {
            "text/plain": [
              "[0.17428605635855438,\n",
              " -0.20928686671652647,\n",
              " -0.7551960934899663,\n",
              " -0.49798087667661367,\n",
              " -0.9310994374175195,\n",
              " -1.6585414913168295,\n",
              " 0.7981267666488626,\n",
              " 1.914469494394365,\n",
              " 2.060676327462255,\n",
              " 0.3862572566637559,\n",
              " -0.346332797687634]"
            ]
          },
          "metadata": {},
          "execution_count": 94
        }
      ]
    },
    {
      "cell_type": "code",
      "source": [
        "def normalEqn(X, y):\n",
        "\n",
        "    theta = np.zeros(X.shape[1])\n",
        "\n",
        "    theta = np.dot(np.dot(np.linalg.inv(np.dot(X.T,X)),X.T),y)\n",
        "\n",
        "    return theta"
      ],
      "metadata": {
        "id": "_MMoIdODf9FN"
      },
      "execution_count": 95,
      "outputs": []
    },
    {
      "cell_type": "code",
      "source": [
        "# Calcula los parametros con la ecuación de la normal\n",
        "theta = normalEqn(X, y);\n",
        "\n",
        "# Muestra los resultados optenidos a partir de la aplicación de la ecuación de la normal\n",
        "print('Theta calculado a partir de la ecuación de la normal: {:s}'.format(str(theta)));\n",
        "\n",
        "# Estimar el precio para una casa de superficie de 1650 sq-ft y tres dormitorios\n",
        "\n",
        "X_array = [1, 420, 5, 2011, 40787, 1, 0, 1, 311, 105, 170, 5]\n",
        "price = np.dot(X_array, theta)\n",
        "\n",
        "print('Precio predecido para un auto (usando la ecuación de la normal): ${:.0f}'.format(price))"
      ],
      "metadata": {
        "colab": {
          "base_uri": "https://localhost:8080/"
        },
        "id": "E7px4OMrf9un",
        "outputId": "0d3975de-ede9-45e7-a81e-531dcb01ccde"
      },
      "execution_count": 97,
      "outputs": [
        {
          "output_type": "stream",
          "name": "stdout",
          "text": [
            "Theta calculado a partir de la ecuación de la normal: [ 1.82292179e+01 -1.87712881e-01  1.27525390e-01 -8.82119636e-02\n",
            "  2.69337740e-02 -7.88520525e-01 -1.24155762e+00 -2.98063238e-01\n",
            " -1.03595899e+00  6.41483349e-03 -7.83325132e-02 -3.32174562e-01]\n",
            "Precio predecido para un auto (usando la ecuación de la normal): $524\n"
          ]
        }
      ]
    }
  ]
}